{
 "cells": [
  {
   "cell_type": "markdown",
   "metadata": {},
   "source": [
    "# Python\n",
    "Ο κύριος στόχος της είναι η αναγνωσιμότητα του κώδικά της. Η ευκολία χρήσης της και το συντακτικό της επιτρέπει στους προγραμματιστές να εκφράσουν έννοιες σε λιγότερες γραμμές κώδικα απ'ότι θα ήταν δυνατόν σε άλλες γλώσσες.\n",
    "\n",
    "Δεν απαιτεί τη δήλωση μεταβλητών και ανά πάσα στιγμή μπορούμε να εκχωρήσουμε μία τίμη σε οποιαδήποτε μεταβλητή και τύπο θελήσουμε.\n"
   ]
  },
  {
   "cell_type": "markdown",
   "metadata": {},
   "source": [
    "# Μαθηματικές Πράξεις\n",
    "Εκτός από τις βασικές μαθηματικές πράξεις, μπορούμε να χρησιμοποιήσουμε απευθείας δυνάμεις και υπόλοιπο διαίρεσεις με τη χρήση των συμβόλων ** και %"
   ]
  },
  {
   "cell_type": "code",
   "execution_count": 1,
   "metadata": {},
   "outputs": [
    {
     "name": "stdout",
     "output_type": "stream",
     "text": [
      "10\n"
     ]
    }
   ],
   "source": [
    "# πρόσθεση\n",
    "print(4 + 6)"
   ]
  },
  {
   "cell_type": "code",
   "execution_count": 2,
   "metadata": {},
   "outputs": [
    {
     "name": "stdout",
     "output_type": "stream",
     "text": [
      "2\n"
     ]
    }
   ],
   "source": [
    "# αφαίρεση\n",
    "print(10 - 8)"
   ]
  },
  {
   "cell_type": "code",
   "execution_count": 3,
   "metadata": {},
   "outputs": [
    {
     "name": "stdout",
     "output_type": "stream",
     "text": [
      "20\n"
     ]
    }
   ],
   "source": [
    "# πολλαπλασιασμός\n",
    "print(4 * 5)"
   ]
  },
  {
   "cell_type": "code",
   "execution_count": 6,
   "metadata": {},
   "outputs": [
    {
     "name": "stdout",
     "output_type": "stream",
     "text": [
      "2.5\n"
     ]
    }
   ],
   "source": [
    "# διαίρεση\n",
    "print(10 / 4)"
   ]
  },
  {
   "cell_type": "code",
   "execution_count": 7,
   "metadata": {},
   "outputs": [
    {
     "name": "stdout",
     "output_type": "stream",
     "text": [
      "2\n"
     ]
    }
   ],
   "source": [
    "# υπόλοιπο διαίρεσης\n",
    "print(10 % 8)"
   ]
  },
  {
   "cell_type": "code",
   "execution_count": 8,
   "metadata": {},
   "outputs": [
    {
     "name": "stdout",
     "output_type": "stream",
     "text": [
      "100\n"
     ]
    }
   ],
   "source": [
    "# δύναμη\n",
    "print(10 ** 2)"
   ]
  },
  {
   "cell_type": "code",
   "execution_count": 9,
   "metadata": {},
   "outputs": [
    {
     "name": "stdout",
     "output_type": "stream",
     "text": [
      "36\n"
     ]
    }
   ],
   "source": [
    "# αριθμητικές παραστάσεις\n",
    "print(10 * 2 + (3-1)** 4)"
   ]
  },
  {
   "cell_type": "markdown",
   "metadata": {},
   "source": [
    "# Μεταβλητές\n",
    "Για να χρησιμοποιήσουμε μια νέα μεταβλητή, αρκεί να γράψουμε το όνομά της, το σύμβολο \"=\" και την τιμή που θέλουμε να δώσουμε ανεξάρτητα από τον τύπο (αριθμός, κείμενο κτλ)\n",
    "\n",
    "Μπορούμε να κάνουμε τις παραπάνω πράξεις και με μεταβλητές. Ωστόσο, θα πρέπει να προσέξουμε τους τύπους που έχει η κάθε μία καθώς δε γίνεται αυτοματοποιημένος έλεγχος."
   ]
  },
  {
   "cell_type": "code",
   "execution_count": 10,
   "metadata": {},
   "outputs": [
    {
     "name": "stdout",
     "output_type": "stream",
     "text": [
      "2018\n"
     ]
    }
   ],
   "source": [
    "year = 2018\n",
    "print(year)"
   ]
  },
  {
   "cell_type": "code",
   "execution_count": 11,
   "metadata": {},
   "outputs": [
    {
     "name": "stdout",
     "output_type": "stream",
     "text": [
      "2019\n"
     ]
    }
   ],
   "source": [
    "print(year + 1)"
   ]
  },
  {
   "cell_type": "code",
   "execution_count": 12,
   "metadata": {},
   "outputs": [
    {
     "name": "stdout",
     "output_type": "stream",
     "text": [
      "2018\n"
     ]
    }
   ],
   "source": [
    "print(year)"
   ]
  },
  {
   "cell_type": "markdown",
   "metadata": {},
   "source": [
    "Όπως βλέπουμε, η πράξεις και αλλαγές που μπορεί να γίνουν μέσα στη συνάρτηση print δεν είναι μόνιμες. Τυπώνοντας ξανά τη μεταβλητή year, συνεχίζει να έχει την παλιά τιμή που είχε. Αν όμως αντικαταστήσουμε τη μεταβλητή με νέα τιμή, η παλιά χάνεται για πάντα."
   ]
  },
  {
   "cell_type": "code",
   "execution_count": 13,
   "metadata": {},
   "outputs": [
    {
     "name": "stdout",
     "output_type": "stream",
     "text": [
      "2019\n"
     ]
    }
   ],
   "source": [
    "year = year + 1\n",
    "print(year)"
   ]
  },
  {
   "cell_type": "markdown",
   "metadata": {},
   "source": [
    "## Είδη μεταβλητών\n",
    "Υπάρχουν πολλά είδη μεταβλητών που θα συναντήσουμε. Οι βασικές είναι integer, float, string και bool."
   ]
  },
  {
   "cell_type": "code",
   "execution_count": 14,
   "metadata": {},
   "outputs": [
    {
     "name": "stdout",
     "output_type": "stream",
     "text": [
      "<class 'int'>\n"
     ]
    }
   ],
   "source": [
    "print(type(year))"
   ]
  },
  {
   "cell_type": "code",
   "execution_count": 15,
   "metadata": {},
   "outputs": [
    {
     "name": "stdout",
     "output_type": "stream",
     "text": [
      "<class 'float'>\n"
     ]
    }
   ],
   "source": [
    "print(type(17.3))"
   ]
  },
  {
   "cell_type": "code",
   "execution_count": 16,
   "metadata": {},
   "outputs": [
    {
     "name": "stdout",
     "output_type": "stream",
     "text": [
      "δύο χιλιάδες δέκα οκτώ\n",
      "<class 'str'>\n"
     ]
    }
   ],
   "source": [
    "year = 'δύο χιλιάδες δέκα οκτώ'\n",
    "print(year)\n",
    "print(type(year))"
   ]
  },
  {
   "cell_type": "code",
   "execution_count": 17,
   "metadata": {},
   "outputs": [
    {
     "name": "stdout",
     "output_type": "stream",
     "text": [
      "<class 'bool'>\n"
     ]
    }
   ],
   "source": [
    "print(type(True))"
   ]
  },
  {
   "cell_type": "code",
   "execution_count": 18,
   "metadata": {},
   "outputs": [
    {
     "name": "stdout",
     "output_type": "stream",
     "text": [
      "Το έτος είναι δύο χιλιάδες δέκα οκτώ\n"
     ]
    }
   ],
   "source": [
    "h = 'Το έτος'\n",
    "w = 'είναι'\n",
    "print(h,w,year)"
   ]
  },
  {
   "cell_type": "markdown",
   "metadata": {},
   "source": [
    "Στη συνάρτηση print μπορούμε όπως είδαμε να δώσουμε παραπάνω από μία παράμετρο και να τυπωθεί στη σειρά με κενό ανάμεσα. Ωστόσο μπορούμε να έχουμε το ίδιο αποτέλεσμα με διαφορετικούς τρόπους."
   ]
  },
  {
   "cell_type": "code",
   "execution_count": 19,
   "metadata": {},
   "outputs": [
    {
     "name": "stdout",
     "output_type": "stream",
     "text": [
      "Το έτος είναι δύο χιλιάδες δέκα οκτώ\n"
     ]
    }
   ],
   "source": [
    "print('Το έτος είναι', year)"
   ]
  },
  {
   "cell_type": "code",
   "execution_count": 22,
   "metadata": {},
   "outputs": [
    {
     "name": "stdout",
     "output_type": "stream",
     "text": [
      "Το έτος είναι δύο χιλιάδες δέκα οκτώ\n"
     ]
    }
   ],
   "source": [
    "print('Το έτος είναι' + ' '  + year)"
   ]
  },
  {
   "cell_type": "markdown",
   "metadata": {},
   "source": [
    "Όπως είπαμε, πρέπει να προσέχουμε την τιμή που έχει η κάθε μεταβλητή. Μπορούμε να \"προσθέσουμε\" δύο ή περισσότερες μεταβλητές αν είναι κείμενο (string), αλλά δεν μπορούμε αν είναι κείμενο και αριθμός."
   ]
  },
  {
   "cell_type": "code",
   "execution_count": 23,
   "metadata": {},
   "outputs": [
    {
     "ename": "TypeError",
     "evalue": "must be str, not int",
     "output_type": "error",
     "traceback": [
      "\u001b[0;31m---------------------------------------------------------------------------\u001b[0m",
      "\u001b[0;31mTypeError\u001b[0m                                 Traceback (most recent call last)",
      "\u001b[0;32m<ipython-input-23-f8e2508ee7a9>\u001b[0m in \u001b[0;36m<module>\u001b[0;34m()\u001b[0m\n\u001b[1;32m      1\u001b[0m \u001b[0myear\u001b[0m \u001b[0;34m=\u001b[0m \u001b[0;36m2018\u001b[0m\u001b[0;34m\u001b[0m\u001b[0m\n\u001b[0;32m----> 2\u001b[0;31m \u001b[0mprint\u001b[0m\u001b[0;34m(\u001b[0m\u001b[0;34m'Το έτος είναι '\u001b[0m \u001b[0;34m+\u001b[0m \u001b[0myear\u001b[0m\u001b[0;34m)\u001b[0m\u001b[0;34m\u001b[0m\u001b[0m\n\u001b[0m",
      "\u001b[0;31mTypeError\u001b[0m: must be str, not int"
     ]
    }
   ],
   "source": [
    "year = 2018\n",
    "print('Το έτος είναι ' + year)"
   ]
  },
  {
   "cell_type": "markdown",
   "metadata": {},
   "source": [
    "Σε αυτήν την περίπτωση, χρησιμοποιούμε είτε τη συνάρτηση str() όπου μετατρέπει κάθε αριθμό σε κείμενο ή τη συνάρτηση print με ξεχωριστούς παραμέτρους"
   ]
  },
  {
   "cell_type": "code",
   "execution_count": 24,
   "metadata": {},
   "outputs": [
    {
     "name": "stdout",
     "output_type": "stream",
     "text": [
      "Το έτος είναι 2018\n",
      "Το έτος είναι 2018\n"
     ]
    }
   ],
   "source": [
    "print('Το έτος είναι ' + str(year))\n",
    "print('Το έτος είναι', year)\n"
   ]
  },
  {
   "cell_type": "code",
   "execution_count": 25,
   "metadata": {},
   "outputs": [
    {
     "name": "stdout",
     "output_type": "stream",
     "text": [
      "Είμαι 30 χρονών και γεννήθηκα το 1988\n"
     ]
    }
   ],
   "source": [
    "print(\"Είμαι \" + str(30) + \" χρονών και γεννήθηκα το \" + str(1988))"
   ]
  },
  {
   "cell_type": "markdown",
   "metadata": {},
   "source": [
    "### int(), str(), float()"
   ]
  },
  {
   "cell_type": "code",
   "execution_count": 26,
   "metadata": {},
   "outputs": [
    {
     "name": "stdout",
     "output_type": "stream",
     "text": [
      "<class 'int'>\n",
      "<class 'str'>\n",
      "<class 'float'>\n"
     ]
    }
   ],
   "source": [
    "integer_number = 2018\n",
    "text = '2018'\n",
    "float_number = 2018.5\n",
    "\n",
    "print(type(integer_number))\n",
    "print(type(text))\n",
    "print(type(float_number))"
   ]
  },
  {
   "cell_type": "code",
   "execution_count": 27,
   "metadata": {},
   "outputs": [
    {
     "name": "stdout",
     "output_type": "stream",
     "text": [
      "2018\n",
      "2018.0\n",
      "2018.5\n"
     ]
    }
   ],
   "source": [
    "print(int(text))\n",
    "print(float(text))\n",
    "print(str(float_number))"
   ]
  },
  {
   "cell_type": "markdown",
   "metadata": {},
   "source": [
    "### Boolean\n",
    "Μία από τις βασικές μεταβλητές είναι και η Bool. Οι τιμές που μπορεί να πάρει είναι True & False. Προσοχή, πάντα με κεφαλαίο το πρώτο γράμμα."
   ]
  },
  {
   "cell_type": "code",
   "execution_count": 28,
   "metadata": {},
   "outputs": [
    {
     "name": "stdout",
     "output_type": "stream",
     "text": [
      "True\n",
      "<class 'bool'>\n"
     ]
    }
   ],
   "source": [
    "a = True\n",
    "b = False\n",
    "\n",
    "print(a)\n",
    "print(type(a))"
   ]
  },
  {
   "cell_type": "code",
   "execution_count": 29,
   "metadata": {},
   "outputs": [
    {
     "ename": "NameError",
     "evalue": "name 'true' is not defined",
     "output_type": "error",
     "traceback": [
      "\u001b[0;31m---------------------------------------------------------------------------\u001b[0m",
      "\u001b[0;31mNameError\u001b[0m                                 Traceback (most recent call last)",
      "\u001b[0;32m<ipython-input-29-b9af7174fa7c>\u001b[0m in \u001b[0;36m<module>\u001b[0;34m()\u001b[0m\n\u001b[0;32m----> 1\u001b[0;31m \u001b[0mwrong_bool\u001b[0m \u001b[0;34m=\u001b[0m \u001b[0mtrue\u001b[0m\u001b[0;34m\u001b[0m\u001b[0m\n\u001b[0m",
      "\u001b[0;31mNameError\u001b[0m: name 'true' is not defined"
     ]
    }
   ],
   "source": [
    "wrong_bool = true"
   ]
  },
  {
   "cell_type": "markdown",
   "metadata": {},
   "source": [
    "Μπορούμε να \"συγκρίνουμε\" μεταβλητές και το αποτέλεσμα που θα πάρουμε να είναι Boolean. Οι διαθέσιμοι \"operators\" είναι\n",
    "\n",
    "* == (ίσο)\n",
    "* != (διαφορετικό)\n",
    "* \\> (μεγαλύτερο)\n",
    "* \\>= (μεγαλύτερο ή ίσο)\n",
    "* < (μικρότερο)\n",
    "* <= (μικρότερο ή ίσο)\n",
    "* in (υπάρχει μέσα σε λίστα)"
   ]
  },
  {
   "cell_type": "code",
   "execution_count": 30,
   "metadata": {},
   "outputs": [
    {
     "name": "stdout",
     "output_type": "stream",
     "text": [
      "False\n",
      "True\n"
     ]
    }
   ],
   "source": [
    "# ισότητα\n",
    "print(3 == 5)\n",
    "print(3 == 3)"
   ]
  },
  {
   "cell_type": "code",
   "execution_count": 31,
   "metadata": {},
   "outputs": [
    {
     "name": "stdout",
     "output_type": "stream",
     "text": [
      "True\n",
      "False\n"
     ]
    }
   ],
   "source": [
    "# ανισότητα\n",
    "print(3 != 5)\n",
    "print(3 != 3)"
   ]
  },
  {
   "cell_type": "code",
   "execution_count": 32,
   "metadata": {},
   "outputs": [
    {
     "name": "stdout",
     "output_type": "stream",
     "text": [
      "False\n",
      "True\n",
      "True\n"
     ]
    }
   ],
   "source": [
    "# μεγαλύτερο\n",
    "print(3 > 5)\n",
    "print(5 > 3)\n",
    "print(5 >= 5)"
   ]
  },
  {
   "cell_type": "code",
   "execution_count": 33,
   "metadata": {},
   "outputs": [
    {
     "data": {
      "text/plain": [
       "True"
      ]
     },
     "execution_count": 33,
     "metadata": {},
     "output_type": "execute_result"
    }
   ],
   "source": [
    "# υπάρχει μέσα σε λίστα\n",
    "3 in [1,2,3,4,5,6]"
   ]
  },
  {
   "cell_type": "markdown",
   "metadata": {},
   "source": [
    "Για περισσότερες πληροφορίες σχετικά με τους πίνακες αληθείας δείτε εδώ https://en.wikipedia.org/wiki/Truth_table"
   ]
  },
  {
   "cell_type": "markdown",
   "metadata": {},
   "source": [
    "# Λίστες\n",
    "\n",
    "Οι λίστες της Python έχουν δυναμικό μέγεθος και τα αντικείμενά τους είναι οποιουδήποτε τύπου. Μία λίστα ξεκινάει και τελειώνει με τα σύμβολα [ και ] και τα αντικείμενα που έχει χωρίζονται με κόμμα."
   ]
  },
  {
   "cell_type": "code",
   "execution_count": 34,
   "metadata": {},
   "outputs": [
    {
     "name": "stdout",
     "output_type": "stream",
     "text": [
      "[]\n"
     ]
    }
   ],
   "source": [
    "empty_list = []\n",
    "print(empty_list)"
   ]
  },
  {
   "cell_type": "code",
   "execution_count": 37,
   "metadata": {},
   "outputs": [
    {
     "name": "stdout",
     "output_type": "stream",
     "text": [
      "[2017, 2018, '\"μπανάνα\"', 'data', True]\n"
     ]
    }
   ],
   "source": [
    "my_list = [2017, 2018, 'μπανάνα', 'data', True]\n",
    "print(my_list)"
   ]
  },
  {
   "cell_type": "code",
   "execution_count": 36,
   "metadata": {},
   "outputs": [
    {
     "name": "stdout",
     "output_type": "stream",
     "text": [
      "<class 'list'>\n"
     ]
    }
   ],
   "source": [
    "print(type(my_list))"
   ]
  },
  {
   "cell_type": "code",
   "execution_count": 38,
   "metadata": {},
   "outputs": [
    {
     "name": "stdout",
     "output_type": "stream",
     "text": [
      "['year', 2018, 'month', 'September', 'day', 'Saturday']\n"
     ]
    }
   ],
   "source": [
    "year = 2018\n",
    "month = \"September\"\n",
    "day = \"Saturday\"\n",
    "\n",
    "today = [\"year\", year, \"month\", month, \"day\", day]\n",
    "print(today)"
   ]
  },
  {
   "cell_type": "markdown",
   "metadata": {},
   "source": [
    "Μπορούμε να βρούμε το μέγεθος της λίστας (πόσα αντικείμενα περιέχει) χρησιμοποιώντας τη συνάρτηση len(). "
   ]
  },
  {
   "cell_type": "code",
   "execution_count": 39,
   "metadata": {},
   "outputs": [
    {
     "data": {
      "text/plain": [
       "6"
      ]
     },
     "execution_count": 39,
     "metadata": {},
     "output_type": "execute_result"
    }
   ],
   "source": [
    "len(today)"
   ]
  },
  {
   "cell_type": "markdown",
   "metadata": {},
   "source": [
    "### Αρίθμηση λίστας\n",
    "\n",
    "Μπορούμε να επιστρέψουμε όποιο στοιχείο θέλουμε από την λίστα χρησιμοποιόντας τη θέση που βρίσκεται σε αυτήν. Προσοχή!!! Η αρίθμηση ξεκινάει από 0 και όχι από 1"
   ]
  },
  {
   "cell_type": "code",
   "execution_count": 40,
   "metadata": {},
   "outputs": [
    {
     "name": "stdout",
     "output_type": "stream",
     "text": [
      "year\n",
      "2018\n"
     ]
    }
   ],
   "source": [
    "print(today[0])\n",
    "print(today[1])"
   ]
  },
  {
   "cell_type": "markdown",
   "metadata": {},
   "source": [
    "Και αντίστροφα ;) Μπορούμε ανάποδα ξεκινώντας από το -1"
   ]
  },
  {
   "cell_type": "code",
   "execution_count": 41,
   "metadata": {},
   "outputs": [
    {
     "name": "stdout",
     "output_type": "stream",
     "text": [
      "Saturday\n",
      "month\n"
     ]
    }
   ],
   "source": [
    "print(today[-1])\n",
    "print(today[-4])"
   ]
  },
  {
   "cell_type": "markdown",
   "metadata": {},
   "source": [
    "### Προσθήκη και αφαίρεση στοιχείων από τη λίστα\n",
    "\n",
    "Μπορούμε να προσθέσουμε στο τέλος της λίστας ένα στοιχείο με την εντολή my_list.append(4) ή να αφαιρέσουμε ένα με my_list.remove('μπανάνα')"
   ]
  },
  {
   "cell_type": "code",
   "execution_count": 42,
   "metadata": {},
   "outputs": [
    {
     "name": "stdout",
     "output_type": "stream",
     "text": [
      "[2017, 2018, '\"μπανάνα\"', 'data', True, 10]\n"
     ]
    }
   ],
   "source": [
    "my_list.append(10)\n",
    "print(my_list)\n",
    "back_up = my_list[:]"
   ]
  },
  {
   "cell_type": "code",
   "execution_count": 43,
   "metadata": {},
   "outputs": [
    {
     "name": "stdout",
     "output_type": "stream",
     "text": [
      "[2017, 2018, '\"μπανάνα\"', 'data', True]\n"
     ]
    }
   ],
   "source": [
    "my_list.remove(10)\n",
    "print(my_list)"
   ]
  },
  {
   "cell_type": "code",
   "execution_count": 44,
   "metadata": {},
   "outputs": [
    {
     "name": "stdout",
     "output_type": "stream",
     "text": [
      "[2017, 2018, '\"μπανάνα\"', 'data', True]\n"
     ]
    }
   ],
   "source": [
    "print(my_list)"
   ]
  },
  {
   "cell_type": "markdown",
   "metadata": {},
   "source": [
    "### Αντικατάσταση στοιχείων στη λίστα\n",
    "\n",
    "Αν θέλουμε να αντικαταστήσουμε ένα στοιχείο της λίστας με ένα καινούργιο, μπορούμε απλά να το δηλώσουμε όπως κάναμε στις μεταβλητές, χρησιμοποιώντας τη θέση που βρίσκεται"
   ]
  },
  {
   "cell_type": "code",
   "execution_count": 47,
   "metadata": {},
   "outputs": [
    {
     "name": "stdout",
     "output_type": "stream",
     "text": [
      "[2017, 2018, 'μήλο', 'data', True]\n"
     ]
    }
   ],
   "source": [
    "my_list[2] = \"μήλο\"\n",
    "print(my_list)"
   ]
  },
  {
   "cell_type": "markdown",
   "metadata": {},
   "source": [
    "### Ταξινόμιση\n",
    "Για ταξινόμιση μιας λίστας, μπορούμε να χρησιμοποιήσουμε τη συνάρτηση sorted()"
   ]
  },
  {
   "cell_type": "code",
   "execution_count": 48,
   "metadata": {},
   "outputs": [],
   "source": [
    "numbers = [1,5,2,6,7,3,2,4,6,8,9,3,2,6,8,9,5,4,3,4,6,8,9,5,4]"
   ]
  },
  {
   "cell_type": "code",
   "execution_count": 50,
   "metadata": {},
   "outputs": [
    {
     "name": "stdout",
     "output_type": "stream",
     "text": [
      "[1, 2, 2, 2, 3, 3, 3, 4, 4, 4, 4, 5, 5, 5, 6, 6, 6, 6, 7, 8, 8, 8, 9, 9, 9]\n",
      "[1, 5, 2, 6, 7, 3, 2, 4, 6, 8, 9, 3, 2, 6, 8, 9, 5, 4, 3, 4, 6, 8, 9, 5, 4]\n"
     ]
    }
   ],
   "source": [
    "# αύξουσα σειρά\n",
    "print(sorted(numbers))\n",
    "print(numbers)"
   ]
  },
  {
   "cell_type": "code",
   "execution_count": 51,
   "metadata": {},
   "outputs": [
    {
     "name": "stdout",
     "output_type": "stream",
     "text": [
      "[9, 9, 9, 8, 8, 8, 7, 6, 6, 6, 6, 5, 5, 5, 4, 4, 4, 4, 3, 3, 3, 2, 2, 2, 1]\n"
     ]
    }
   ],
   "source": [
    "# φθίνουσα σειρά\n",
    "print(sorted(numbers, reverse = True))"
   ]
  },
  {
   "cell_type": "markdown",
   "metadata": {},
   "source": [
    "### List methods\n",
    "index(), count() και reverse()"
   ]
  },
  {
   "cell_type": "code",
   "execution_count": 52,
   "metadata": {},
   "outputs": [
    {
     "name": "stdout",
     "output_type": "stream",
     "text": [
      "4\n"
     ]
    }
   ],
   "source": [
    "# επιστρέφει τη θέση του πρώτου στοιχείου με την τιμή που θέλουμε\n",
    "print(numbers.index(7))"
   ]
  },
  {
   "cell_type": "code",
   "execution_count": 53,
   "metadata": {},
   "outputs": [
    {
     "name": "stdout",
     "output_type": "stream",
     "text": [
      "3\n"
     ]
    }
   ],
   "source": [
    "# επιστρέφει το σύνολο των στοιχείων με την τιμή που θέλουμε\n",
    "print(numbers.count(5))"
   ]
  },
  {
   "cell_type": "code",
   "execution_count": 54,
   "metadata": {},
   "outputs": [
    {
     "name": "stdout",
     "output_type": "stream",
     "text": [
      "[4, 5, 9, 8, 6, 4, 3, 4, 5, 9, 8, 6, 2, 3, 9, 8, 6, 4, 2, 3, 7, 6, 2, 5, 1]\n"
     ]
    }
   ],
   "source": [
    "# επιστρέφει τη λίστα με αντίστροφη σειρά\n",
    "# προσοχή. Καλώντας τη μέθοδο reverse, η αρχική μας λίστα χάνεται\n",
    "numbers.reverse()\n",
    "print(numbers)"
   ]
  },
  {
   "cell_type": "markdown",
   "metadata": {},
   "source": [
    "### Άσκηση\n",
    "\n",
    "1. Δημιουργήστε 2 κενές λίστες. Η πρώτη να λέγεται cities και η δεύτερη populations\n",
    "2. Με χρήση της append προσθέστε 5 πόλεις της Ελλάδας\n",
    "3. Αφού βρείτε τον πληθυσμό των πόλεων από τη Wikipedia, συμπληρώστε και τη δεύτερη λίστα με την ίδια σειρά\n",
    "4. Τυπώστε τη δεύτερη πόλη μαζί με τον πληθυσμό της στη μορφή \"Καβάλα: 80000\""
   ]
  },
  {
   "cell_type": "code",
   "execution_count": 56,
   "metadata": {},
   "outputs": [
    {
     "name": "stdout",
     "output_type": "stream",
     "text": [
      "Thessaloniki: 1000000\n",
      "Thessaloniki : 1000000\n",
      "Η πόλη είναι η Thessaloniki: 1000000\n"
     ]
    }
   ],
   "source": [
    "cities = []\n",
    "populations = []\n",
    "cities.extend(['Kavala', 'Thessaloniki', 'Athens', 'Volos', 'Kozani'])\n",
    "populations.extend([60000, 1000000, 5500000, 40000, 50000])\n",
    "print(cities[1]+\": \" + str(populations[1]))\n",
    "print(cities[1],\":\", populations[1])\n",
    "print(\"Η πόλη είναι η {}: {}\".format(cities[1],populations[1]))"
   ]
  },
  {
   "cell_type": "markdown",
   "metadata": {},
   "source": [
    "### Υπολίστες\n",
    "\n",
    "Μπορούμε να επιλέξουμε οποιοδήποτε κομμάτι της λίστας. Όχι μόνο ένα στοιχείο όπως προηγουμένως, αλλά πολλά μαζί."
   ]
  },
  {
   "cell_type": "code",
   "execution_count": 57,
   "metadata": {},
   "outputs": [
    {
     "name": "stdout",
     "output_type": "stream",
     "text": [
      "[2017, 2018, 'μπανάνα', 'data', True, 'true', 10, 10]\n"
     ]
    },
    {
     "data": {
      "text/plain": [
       "[2017, 2018, 'μπανάνα']"
      ]
     },
     "execution_count": 57,
     "metadata": {},
     "output_type": "execute_result"
    }
   ],
   "source": [
    "my_list = [2017, 2018, 'μπανάνα', 'data', True, 'true', 10, 10]\n",
    "print(my_list)\n",
    "my_list[0:3]"
   ]
  },
  {
   "cell_type": "markdown",
   "metadata": {},
   "source": [
    "#### Προσοχή!\n",
    "\n",
    "Το τελευταίο στοιχείο λείπει! Έχουν επιστραφεί τα στοιχεία στις θέσεις 0, 1 και 2."
   ]
  },
  {
   "cell_type": "code",
   "execution_count": 58,
   "metadata": {},
   "outputs": [
    {
     "data": {
      "text/plain": [
       "[2017, 2018, 'μπανάνα']"
      ]
     },
     "execution_count": 58,
     "metadata": {},
     "output_type": "execute_result"
    }
   ],
   "source": [
    "my_list[:3]"
   ]
  },
  {
   "cell_type": "code",
   "execution_count": 59,
   "metadata": {},
   "outputs": [
    {
     "data": {
      "text/plain": [
       "['data', True, 'true', 10, 10]"
      ]
     },
     "execution_count": 59,
     "metadata": {},
     "output_type": "execute_result"
    }
   ],
   "source": [
    "my_list[3:]"
   ]
  },
  {
   "cell_type": "code",
   "execution_count": 61,
   "metadata": {},
   "outputs": [
    {
     "data": {
      "text/plain": [
       "['true', 10]"
      ]
     },
     "execution_count": 61,
     "metadata": {},
     "output_type": "execute_result"
    }
   ],
   "source": [
    "my_list[-3:-1]"
   ]
  },
  {
   "cell_type": "markdown",
   "metadata": {},
   "source": [
    "### Λίστες μέσα σε λίστες"
   ]
  },
  {
   "cell_type": "code",
   "execution_count": 62,
   "metadata": {},
   "outputs": [
    {
     "name": "stdout",
     "output_type": "stream",
     "text": [
      "[[1, 2, 3], [4, 5, 6], [7, 8, 9]]\n"
     ]
    },
    {
     "data": {
      "text/plain": [
       "[1, 2, 3]"
      ]
     },
     "execution_count": 62,
     "metadata": {},
     "output_type": "execute_result"
    }
   ],
   "source": [
    "list_of_lists = [[1,2,3],[4,5,6],[7,8,9]]\n",
    "print(list_of_lists)\n",
    "list_of_lists[0]"
   ]
  },
  {
   "cell_type": "code",
   "execution_count": 63,
   "metadata": {},
   "outputs": [
    {
     "data": {
      "text/plain": [
       "list"
      ]
     },
     "execution_count": 63,
     "metadata": {},
     "output_type": "execute_result"
    }
   ],
   "source": [
    "type(list_of_lists)"
   ]
  },
  {
   "cell_type": "code",
   "execution_count": 64,
   "metadata": {},
   "outputs": [
    {
     "data": {
      "text/plain": [
       "2"
      ]
     },
     "execution_count": 64,
     "metadata": {},
     "output_type": "execute_result"
    }
   ],
   "source": [
    "list_of_lists[0][1]"
   ]
  },
  {
   "cell_type": "markdown",
   "metadata": {},
   "source": [
    "### Split & Join"
   ]
  },
  {
   "cell_type": "code",
   "execution_count": 65,
   "metadata": {},
   "outputs": [
    {
     "data": {
      "text/plain": [
       "['2017', '2018', '2019', '2020']"
      ]
     },
     "execution_count": 65,
     "metadata": {},
     "output_type": "execute_result"
    }
   ],
   "source": [
    "years = '2017,2018,2019,2020'\n",
    "years.split(\",\")"
   ]
  },
  {
   "cell_type": "code",
   "execution_count": 67,
   "metadata": {},
   "outputs": [
    {
     "name": "stdout",
     "output_type": "stream",
     "text": [
      "['Τα', 'αρχεία', 'τα', 'ανοίγουμε', 'με', 'την', 'εντολή', 'open(file,', '\"r\").', 'Το', '\"r\"', 'δηλώνει', 'ότι', 'πρόκειται', 'μόνο', 'για', 'read.', 'Αν', 'είχε', '\"w\"', 'θα', 'είχαμε', 'δικαιώματα', 'για', 'να', 'γράψουμε', 'και', 'στο', 'αρχείο', 'νέα', 'δεδομένα.', 'Αφού', 'ανοίξουμε', 'το', 'αρχείο,', 'για', 'να', 'μπορούμε', 'να', 'το', 'επεξεργαστούμε,', 'πρέπει', 'να', 'το', '\"διαβάσουμε\"']\n"
     ]
    },
    {
     "data": {
      "text/plain": [
       "45"
      ]
     },
     "execution_count": 67,
     "metadata": {},
     "output_type": "execute_result"
    }
   ],
   "source": [
    "t = 'Τα αρχεία τα ανοίγουμε με την εντολή open(file, \"r\"). Το \"r\" δηλώνει ότι πρόκειται μόνο για read. Αν είχε \"w\" θα είχαμε δικαιώματα για να γράψουμε και στο αρχείο νέα δεδομένα. Αφού ανοίξουμε το αρχείο, για να μπορούμε να το επεξεργαστούμε, πρέπει να το \"διαβάσουμε\"'\n",
    "another_list = t.split(' ')\n",
    "print(another_list)\n",
    "len(another_list)"
   ]
  },
  {
   "cell_type": "code",
   "execution_count": 68,
   "metadata": {},
   "outputs": [
    {
     "data": {
      "text/plain": [
       "'3-5-True'"
      ]
     },
     "execution_count": 68,
     "metadata": {},
     "output_type": "execute_result"
    }
   ],
   "source": [
    "another_list = ['3','5','True']\n",
    "'-'.join(another_list)\n"
   ]
  },
  {
   "cell_type": "markdown",
   "metadata": {},
   "source": [
    "### Άνοιγμα αρχείων\n",
    "\n",
    "Τα αρχεία τα ανοίγουμε με την εντολή open(file, \"r\"). Το \"r\" δηλώνει ότι πρόκειται μόνο για read. Αν είχε \"w\" θα είχαμε δικαιώματα για να γράψουμε και στο αρχείο νέα δεδομένα. Αφού ανοίξουμε το αρχείο, για να μπορούμε να το επεξεργαστούμε, πρέπει να το \"διαβάσουμε\""
   ]
  },
  {
   "cell_type": "code",
   "execution_count": 70,
   "metadata": {},
   "outputs": [
    {
     "name": "stdout",
     "output_type": "stream",
     "text": [
      "Albuquerque,749\n",
      "Anaheim,371\n",
      "Anchorage,828\n",
      "Arlington,503\n",
      "Atlanta,1379\n",
      "Aurora,425\n",
      "Austin,408\n",
      "Bakersfield,542\n",
      "Baltimore,1405\n",
      "Boston,835\n",
      "Buffalo,1288\n",
      "Charlotte-Mecklenburg,647\n",
      "Cincinnati,974\n",
      "Cleveland,1383\n",
      "Colorado Springs,455\n",
      "Corpus Christi,658\n",
      "Dallas,675\n",
      "Denver,615\n",
      "Detroit,2122\n",
      "El Paso,423\n",
      "Fort Wayne,362\n",
      "Fort Worth,587\n",
      "Fresno,543\n",
      "Greensboro,563\n",
      "Henderson,168\n",
      "Houston,992\n",
      "Indianapolis,1185\n",
      "Jacksonville,617\n",
      "Jersey City,734\n",
      "Kansas City,1263\n",
      "Las Vegas,784\n",
      "Lexington,352\n",
      "Lincoln,397\n",
      "Long Beach,575\n",
      "Los Angeles,481\n",
      "Louisville Metro,598\n",
      "Memphis,1750\n",
      "Mesa,399\n",
      "Miami,1172\n",
      "Milwaukee,1294\n",
      "Minneapolis,992\n",
      "Mobile,522\n",
      "Nashville,1216\n",
      "New Orleans,815\n",
      "New York,639\n",
      "Newark,1154\n",
      "Oakland,1993\n",
      "Oklahoma City,919\n",
      "Omaha,594\n",
      "Philadelphia,1160\n",
      "Phoenix,636\n",
      "Pittsburgh,752\n",
      "Plano,130\n",
      "Portland,517\n",
      "Raleigh,423\n",
      "Riverside,443\n",
      "Sacramento,738\n",
      "San Antonio,503\n",
      "San Diego,413\n",
      "San Francisco,704\n",
      "San Jose,363\n",
      "Santa Ana,401\n",
      "Seattle,597\n",
      "St. Louis,1776\n",
      "St. Paul,722\n",
      "Stockton,1548\n",
      "Tampa,616\n",
      "Toledo,1171\n",
      "Tucson,724\n",
      "Tulsa,990\n",
      "Virginia Beach,169\n",
      "Washington,1177\n",
      "Wichita,742\n"
     ]
    }
   ],
   "source": [
    "f = open(\"crime_rates.csv\", \"r\")\n",
    "data = f.read()\n",
    "print(data)"
   ]
  },
  {
   "cell_type": "markdown",
   "metadata": {},
   "source": [
    "### New line\n",
    "Στην Python δηλώνουμε νέα γραμμή στο κείμενο με τους χαρακτήρες \\n . Προσοχή. Οι χαρακτήρες αυτοί δε θα τυπωθούν όταν καλέσουμε την print"
   ]
  },
  {
   "cell_type": "code",
   "execution_count": 71,
   "metadata": {},
   "outputs": [
    {
     "name": "stdout",
     "output_type": "stream",
     "text": [
      "a \n",
      "b\n"
     ]
    }
   ],
   "source": [
    "print('a \\nb')"
   ]
  },
  {
   "cell_type": "code",
   "execution_count": 72,
   "metadata": {},
   "outputs": [
    {
     "name": "stdout",
     "output_type": "stream",
     "text": [
      "['Albuquerque,749', 'Anaheim,371', 'Anchorage,828', 'Arlington,503', 'Atlanta,1379']\n"
     ]
    }
   ],
   "source": [
    "rows = data.split('\\n')\n",
    "print(rows[0:5])"
   ]
  },
  {
   "cell_type": "markdown",
   "metadata": {},
   "source": [
    "### For Loop"
   ]
  },
  {
   "cell_type": "code",
   "execution_count": 73,
   "metadata": {},
   "outputs": [
    {
     "name": "stdout",
     "output_type": "stream",
     "text": [
      "Albuquerque,749\n",
      "Anaheim,371\n",
      "Anchorage,828\n",
      "Arlington,503\n",
      "Atlanta,1379\n",
      "Aurora,425\n",
      "Austin,408\n",
      "Bakersfield,542\n",
      "Baltimore,1405\n",
      "Boston,835\n"
     ]
    }
   ],
   "source": [
    "ten_rows = rows[0:10]\n",
    "for row in ten_rows:\n",
    "    print(row)"
   ]
  },
  {
   "cell_type": "markdown",
   "metadata": {},
   "source": [
    "### Range\n",
    "\n",
    "Με την εντολή range μπορώ να έχω μία λίστα αριθμών με το εύρος και βήμα που ορίζω εγώ"
   ]
  },
  {
   "cell_type": "code",
   "execution_count": 74,
   "metadata": {},
   "outputs": [
    {
     "name": "stdout",
     "output_type": "stream",
     "text": [
      "0\n",
      "1\n",
      "2\n",
      "3\n",
      "4\n",
      "5\n",
      "6\n",
      "7\n",
      "8\n",
      "9\n"
     ]
    }
   ],
   "source": [
    "for i in range(10):\n",
    "    print(i)"
   ]
  },
  {
   "cell_type": "code",
   "execution_count": 75,
   "metadata": {},
   "outputs": [
    {
     "name": "stdout",
     "output_type": "stream",
     "text": [
      "5,6,7,8,9,"
     ]
    }
   ],
   "source": [
    "for j in range(5,10):\n",
    "    print(j,end=',')"
   ]
  },
  {
   "cell_type": "code",
   "execution_count": 76,
   "metadata": {},
   "outputs": [
    {
     "name": "stdout",
     "output_type": "stream",
     "text": [
      "0,2,4,6,8,"
     ]
    }
   ],
   "source": [
    "for k in range(0,10,2):\n",
    "    print(k,end=',')"
   ]
  },
  {
   "cell_type": "markdown",
   "metadata": {},
   "source": [
    "\n",
    "\n",
    "### Άσκηση\n",
    "\n",
    "Να βρεθεί ο 15ος αριθμός Fibonacci αν γνωρίζετε ότι ο 1ος και 2ος είναι ίσος με 1 και κάθε επόμενος προκύπτει από το άθροισμα των δύο προηγούμενων"
   ]
  },
  {
   "cell_type": "code",
   "execution_count": 77,
   "metadata": {},
   "outputs": [
    {
     "name": "stdout",
     "output_type": "stream",
     "text": [
      "610\n"
     ]
    }
   ],
   "source": [
    "a1 = 1\n",
    "a2 = 1\n",
    "for n in range(13):\n",
    "    temp = a1 + a2\n",
    "    a1 = a2\n",
    "    a2 = temp\n",
    "print(a2)"
   ]
  },
  {
   "cell_type": "markdown",
   "metadata": {},
   "source": [
    "### Και άλλες λίστες..."
   ]
  },
  {
   "cell_type": "code",
   "execution_count": 78,
   "metadata": {},
   "outputs": [
    {
     "name": "stdout",
     "output_type": "stream",
     "text": [
      "[['Albuquerque', '749'], ['Anaheim', '371'], ['Anchorage', '828'], ['Arlington', '503'], ['Atlanta', '1379']]\n"
     ]
    }
   ],
   "source": [
    "crimes = []\n",
    "for row in rows:\n",
    "    split_list = row.split(',')\n",
    "    crimes.append(split_list)\n",
    "print(crimes[:5])"
   ]
  },
  {
   "cell_type": "markdown",
   "metadata": {},
   "source": [
    "Η υπολίστα με την πόλη Atlanta είναι στη θέση 4. Οπότε αν θέλουμε να τυπώσουμε την τιμή 1379, πρέπει πρώτα να πάρουμε την υπολίστα και μετά το δεύτερο στοιχείο από αυτήν."
   ]
  },
  {
   "cell_type": "code",
   "execution_count": 79,
   "metadata": {},
   "outputs": [
    {
     "name": "stdout",
     "output_type": "stream",
     "text": [
      "Atlanta\n",
      "1379\n"
     ]
    }
   ],
   "source": [
    "print(crimes[4][0])\n",
    "print(crimes[4][1])"
   ]
  },
  {
   "cell_type": "code",
   "execution_count": 80,
   "metadata": {},
   "outputs": [
    {
     "data": {
      "text/plain": [
       "True"
      ]
     },
     "execution_count": 80,
     "metadata": {},
     "output_type": "execute_result"
    }
   ],
   "source": [
    "int(crimes[4][1]) > int(crimes[3][1])"
   ]
  },
  {
   "cell_type": "markdown",
   "metadata": {},
   "source": [
    "### If statements\n",
    "\n",
    "Όταν θέλω να συγκρίνω δύο μεταβλητές, χρησιμοποιώ την If, else"
   ]
  },
  {
   "cell_type": "code",
   "execution_count": 81,
   "metadata": {},
   "outputs": [],
   "source": [
    "my_favourite_fruit = \"apple\"\n",
    "\n",
    "if my_favourite_fruit == \"orange\":\n",
    "    print('You are lucky')"
   ]
  },
  {
   "cell_type": "code",
   "execution_count": 82,
   "metadata": {},
   "outputs": [
    {
     "name": "stdout",
     "output_type": "stream",
     "text": [
      "Damn...\n"
     ]
    }
   ],
   "source": [
    "my_favourite_fruit = \"apple\"\n",
    "\n",
    "if my_favourite_fruit == \"orange\":\n",
    "    print('You are lucky')\n",
    "else:\n",
    "    print('Damn...')"
   ]
  },
  {
   "cell_type": "code",
   "execution_count": 84,
   "metadata": {},
   "outputs": [
    {
     "name": "stdout",
     "output_type": "stream",
     "text": [
      "Θες βελτίωση\n"
     ]
    }
   ],
   "source": [
    "grade = 71\n",
    "if grade > 90 and grade <= 100:\n",
    "    print('Well done')\n",
    "elif grade > 80:\n",
    "    print('Μπορείς και καλύτερα')\n",
    "elif grade > 70:\n",
    "    print('Θες βελτίωση')\n",
    "else:\n",
    "    print('Δυστυχώς ξανά προσπάθησε')"
   ]
  },
  {
   "cell_type": "markdown",
   "metadata": {},
   "source": [
    "### Άσκηση\n",
    "\n",
    "Να βρεθεί η πόλη με την μεγαλύτερη εγκληματικότητα. Προσοχή στους τύπους μεταβλητών!"
   ]
  },
  {
   "cell_type": "code",
   "execution_count": 85,
   "metadata": {},
   "outputs": [
    {
     "name": "stdout",
     "output_type": "stream",
     "text": [
      "Detroit 2122\n"
     ]
    }
   ],
   "source": [
    "crime_rate = 0\n",
    "crime_city = ''\n",
    "for city in crimes:\n",
    "    if int(city[1]) > crime_rate:\n",
    "        crime_city = city[0]\n",
    "        crime_rate = int(city[1])\n",
    "        \n",
    "print(crime_city, crime_rate)"
   ]
  },
  {
   "cell_type": "markdown",
   "metadata": {},
   "source": [
    "### Άσκηση\n",
    "\n",
    "1. Να βρεθεί dataset με όλες τις πόλεις και τον πληθυσμό τους\n",
    "2. Να βρεθεί η πόλη με τον μικρότερο πληθυσμό"
   ]
  },
  {
   "cell_type": "code",
   "execution_count": 86,
   "metadata": {},
   "outputs": [
    {
     "name": "stdout",
     "output_type": "stream",
     "text": [
      "Fortin Falcon -99.0\n"
     ]
    }
   ],
   "source": [
    "g = open(\"populations.csv\", \"r\", encoding=\"utf8\")\n",
    "data = g.read().split('\\n')\n",
    "data[:10]\n",
    "smallest_city = ''\n",
    "smallest_pop = False\n",
    "for row in data[1:-2]:\n",
    "    city = row.split(',')\n",
    "    if float(city[4]) < smallest_pop:\n",
    "        smallest_pop = float(city[4])\n",
    "        smallest_city = city[0]\n",
    "print(smallest_city, smallest_pop)"
   ]
  },
  {
   "cell_type": "markdown",
   "metadata": {},
   "source": [
    "## Πικρή Αλήθεια\n",
    "\n",
    "Το μεγαλύτερο ποσοστό των dataset περιέχουν λάθη που πρέπει εμείς να βρούμε και να αποφασίσουμε τι θα τα κάνουμε :("
   ]
  },
  {
   "cell_type": "markdown",
   "metadata": {},
   "source": [
    "## Λεξικά\n",
    "\n",
    "Μια άλλη μορφή δεδομένων είναι τα Λεξικά (Dictionaries) και χρησιμοποιούνται για να βρίσκουμε εύκολα ένα αντικείμενο με βάση κάποιο κλειδί"
   ]
  },
  {
   "cell_type": "code",
   "execution_count": 91,
   "metadata": {},
   "outputs": [
    {
     "name": "stdout",
     "output_type": "stream",
     "text": [
      "{1: 'one', 'one': 1, 'a_list': [1, 2, 3, 4], 'a_boolean': True, 'a_number': 5}\n",
      "True\n"
     ]
    }
   ],
   "source": [
    "dictionary = {}\n",
    "dictionary[1] = 'one'\n",
    "dictionary['one'] = 1\n",
    "dictionary['a_list'] = [1,2,3,4]\n",
    "dictionary['a_boolean'] = True\n",
    "dictionary['a_number'] = 5\n",
    "print(dictionary)\n",
    "print(dictionary['a_boolean'])"
   ]
  },
  {
   "cell_type": "code",
   "execution_count": 89,
   "metadata": {},
   "outputs": [
    {
     "name": "stdout",
     "output_type": "stream",
     "text": [
      "1\n"
     ]
    }
   ],
   "source": [
    "print(dictionary['one'])"
   ]
  },
  {
   "cell_type": "code",
   "execution_count": 92,
   "metadata": {},
   "outputs": [
    {
     "data": {
      "text/plain": [
       "5"
      ]
     },
     "execution_count": 92,
     "metadata": {},
     "output_type": "execute_result"
    }
   ],
   "source": [
    "dictionary['a_number']"
   ]
  },
  {
   "cell_type": "code",
   "execution_count": 93,
   "metadata": {},
   "outputs": [
    {
     "ename": "KeyError",
     "evalue": "'nothing'",
     "output_type": "error",
     "traceback": [
      "\u001b[0;31m---------------------------------------------------------------------------\u001b[0m",
      "\u001b[0;31mKeyError\u001b[0m                                  Traceback (most recent call last)",
      "\u001b[0;32m<ipython-input-93-8651b36825f3>\u001b[0m in \u001b[0;36m<module>\u001b[0;34m()\u001b[0m\n\u001b[0;32m----> 1\u001b[0;31m \u001b[0mdictionary\u001b[0m\u001b[0;34m[\u001b[0m\u001b[0;34m'nothing'\u001b[0m\u001b[0;34m]\u001b[0m\u001b[0;34m\u001b[0m\u001b[0m\n\u001b[0m",
      "\u001b[0;31mKeyError\u001b[0m: 'nothing'"
     ]
    }
   ],
   "source": [
    "dictionary['nothing']"
   ]
  },
  {
   "cell_type": "code",
   "execution_count": 94,
   "metadata": {},
   "outputs": [
    {
     "name": "stdout",
     "output_type": "stream",
     "text": [
      "dict_keys([1, 'one', 'a_list', 'a_boolean', 'a_number'])\n"
     ]
    }
   ],
   "source": [
    "print(dictionary.keys())"
   ]
  },
  {
   "cell_type": "code",
   "execution_count": 95,
   "metadata": {},
   "outputs": [
    {
     "name": "stdout",
     "output_type": "stream",
     "text": [
      "{'Albuquerque': 749, 'Anaheim': 371, 'Anchorage': 828, 'Arlington': 503, 'Atlanta': 1379, 'Aurora': 425, 'Austin': 408, 'Bakersfield': 542, 'Baltimore': 1405, 'Boston': 835, 'Buffalo': 1288, 'Charlotte-Mecklenburg': 647, 'Cincinnati': 974, 'Cleveland': 1383, 'Colorado Springs': 455, 'Corpus Christi': 658, 'Dallas': 675, 'Denver': 615, 'Detroit': 2122, 'El Paso': 423, 'Fort Wayne': 362, 'Fort Worth': 587, 'Fresno': 543, 'Greensboro': 563, 'Henderson': 168, 'Houston': 992, 'Indianapolis': 1185, 'Jacksonville': 617, 'Jersey City': 734, 'Kansas City': 1263, 'Las Vegas': 784, 'Lexington': 352, 'Lincoln': 397, 'Long Beach': 575, 'Los Angeles': 481, 'Louisville Metro': 598, 'Memphis': 1750, 'Mesa': 399, 'Miami': 1172, 'Milwaukee': 1294, 'Minneapolis': 992, 'Mobile': 522, 'Nashville': 1216, 'New Orleans': 815, 'New York': 639, 'Newark': 1154, 'Oakland': 1993, 'Oklahoma City': 919, 'Omaha': 594, 'Philadelphia': 1160, 'Phoenix': 636, 'Pittsburgh': 752, 'Plano': 130, 'Portland': 517, 'Raleigh': 423, 'Riverside': 443, 'Sacramento': 738, 'San Antonio': 503, 'San Diego': 413, 'San Francisco': 704, 'San Jose': 363, 'Santa Ana': 401, 'Seattle': 597, 'St. Louis': 1776, 'St. Paul': 722, 'Stockton': 1548, 'Tampa': 616, 'Toledo': 1171, 'Tucson': 724, 'Tulsa': 990, 'Virginia Beach': 169, 'Washington': 1177, 'Wichita': 742}\n"
     ]
    }
   ],
   "source": [
    "f = open(\"crime_rates.csv\", \"r\")\n",
    "data = f.read().split('\\n')\n",
    "cities = {}\n",
    "for row in data:\n",
    "    city = row.split(',')\n",
    "    cities[city[0]] = int(city[1])\n",
    "\n",
    "print(cities)"
   ]
  },
  {
   "cell_type": "code",
   "execution_count": 96,
   "metadata": {},
   "outputs": [],
   "source": [
    "cities['Thessaloniki'] = 100"
   ]
  },
  {
   "cell_type": "code",
   "execution_count": 97,
   "metadata": {},
   "outputs": [
    {
     "data": {
      "text/plain": [
       "{'Albuquerque': 749,\n",
       " 'Anaheim': 371,\n",
       " 'Anchorage': 828,\n",
       " 'Arlington': 503,\n",
       " 'Atlanta': 1379,\n",
       " 'Aurora': 425,\n",
       " 'Austin': 408,\n",
       " 'Bakersfield': 542,\n",
       " 'Baltimore': 1405,\n",
       " 'Boston': 835,\n",
       " 'Buffalo': 1288,\n",
       " 'Charlotte-Mecklenburg': 647,\n",
       " 'Cincinnati': 974,\n",
       " 'Cleveland': 1383,\n",
       " 'Colorado Springs': 455,\n",
       " 'Corpus Christi': 658,\n",
       " 'Dallas': 675,\n",
       " 'Denver': 615,\n",
       " 'Detroit': 2122,\n",
       " 'El Paso': 423,\n",
       " 'Fort Wayne': 362,\n",
       " 'Fort Worth': 587,\n",
       " 'Fresno': 543,\n",
       " 'Greensboro': 563,\n",
       " 'Henderson': 168,\n",
       " 'Houston': 992,\n",
       " 'Indianapolis': 1185,\n",
       " 'Jacksonville': 617,\n",
       " 'Jersey City': 734,\n",
       " 'Kansas City': 1263,\n",
       " 'Las Vegas': 784,\n",
       " 'Lexington': 352,\n",
       " 'Lincoln': 397,\n",
       " 'Long Beach': 575,\n",
       " 'Los Angeles': 481,\n",
       " 'Louisville Metro': 598,\n",
       " 'Memphis': 1750,\n",
       " 'Mesa': 399,\n",
       " 'Miami': 1172,\n",
       " 'Milwaukee': 1294,\n",
       " 'Minneapolis': 992,\n",
       " 'Mobile': 522,\n",
       " 'Nashville': 1216,\n",
       " 'New Orleans': 815,\n",
       " 'New York': 639,\n",
       " 'Newark': 1154,\n",
       " 'Oakland': 1993,\n",
       " 'Oklahoma City': 919,\n",
       " 'Omaha': 594,\n",
       " 'Philadelphia': 1160,\n",
       " 'Phoenix': 636,\n",
       " 'Pittsburgh': 752,\n",
       " 'Plano': 130,\n",
       " 'Portland': 517,\n",
       " 'Raleigh': 423,\n",
       " 'Riverside': 443,\n",
       " 'Sacramento': 738,\n",
       " 'San Antonio': 503,\n",
       " 'San Diego': 413,\n",
       " 'San Francisco': 704,\n",
       " 'San Jose': 363,\n",
       " 'Santa Ana': 401,\n",
       " 'Seattle': 597,\n",
       " 'St. Louis': 1776,\n",
       " 'St. Paul': 722,\n",
       " 'Stockton': 1548,\n",
       " 'Tampa': 616,\n",
       " 'Toledo': 1171,\n",
       " 'Tucson': 724,\n",
       " 'Tulsa': 990,\n",
       " 'Virginia Beach': 169,\n",
       " 'Washington': 1177,\n",
       " 'Wichita': 742,\n",
       " 'Thessaloniki': 100}"
      ]
     },
     "execution_count": 97,
     "metadata": {},
     "output_type": "execute_result"
    }
   ],
   "source": [
    "cities"
   ]
  },
  {
   "cell_type": "markdown",
   "metadata": {},
   "source": [
    "### Αναζήτηση σε λεξικά\n",
    "Για να δούμε αν υπάρχει κάποιο κλειδί μέσα στο λεξικό αρκεί να χρησιμοποιήσουμε τον operator in"
   ]
  },
  {
   "cell_type": "code",
   "execution_count": 98,
   "metadata": {},
   "outputs": [
    {
     "data": {
      "text/plain": [
       "True"
      ]
     },
     "execution_count": 98,
     "metadata": {},
     "output_type": "execute_result"
    }
   ],
   "source": [
    "'Oklahoma City' in cities"
   ]
  },
  {
   "cell_type": "code",
   "execution_count": 99,
   "metadata": {},
   "outputs": [
    {
     "data": {
      "text/plain": [
       "False"
      ]
     },
     "execution_count": 99,
     "metadata": {},
     "output_type": "execute_result"
    }
   ],
   "source": [
    "'Athens' in cities"
   ]
  },
  {
   "cell_type": "markdown",
   "metadata": {},
   "source": [
    "### Διαγραφή κλειδιού\n",
    "Για τη διαγραφή ενός κλειδιού αρκεί να καλέσουμε τη συνάρτηση del() στο λεξικό και το κλειδί που θέλουμε να διαγράψουμε"
   ]
  },
  {
   "cell_type": "code",
   "execution_count": 100,
   "metadata": {},
   "outputs": [],
   "source": [
    "del(cities['Thessaloniki'])"
   ]
  },
  {
   "cell_type": "markdown",
   "metadata": {},
   "source": [
    "### Ταξινόμιση λεξικών\n",
    "Για να κάνουμε ταξινόμιση, πρέπει πρώτα να μετατρέψουμε το λεξικό σε λίστα με τη χρήση της μεθόδου items(). Μετά να δηλώσουμε στην παράμετρο key ότι θέλουμε να γίνει με βάση την τιμή και όχι το κλειδή με χρήση της lamda\n",
    "sorted(cities.items(), key=lambda x:x[1], reverse=True)"
   ]
  },
  {
   "cell_type": "code",
   "execution_count": 101,
   "metadata": {},
   "outputs": [
    {
     "data": {
      "text/plain": [
       "[('Detroit', 2122),\n",
       " ('Oakland', 1993),\n",
       " ('St. Louis', 1776),\n",
       " ('Memphis', 1750),\n",
       " ('Stockton', 1548),\n",
       " ('Baltimore', 1405),\n",
       " ('Cleveland', 1383),\n",
       " ('Atlanta', 1379),\n",
       " ('Milwaukee', 1294),\n",
       " ('Buffalo', 1288),\n",
       " ('Kansas City', 1263),\n",
       " ('Nashville', 1216),\n",
       " ('Indianapolis', 1185),\n",
       " ('Washington', 1177),\n",
       " ('Miami', 1172),\n",
       " ('Toledo', 1171),\n",
       " ('Philadelphia', 1160),\n",
       " ('Newark', 1154),\n",
       " ('Houston', 992),\n",
       " ('Minneapolis', 992),\n",
       " ('Tulsa', 990),\n",
       " ('Cincinnati', 974),\n",
       " ('Oklahoma City', 919),\n",
       " ('Boston', 835),\n",
       " ('Anchorage', 828),\n",
       " ('New Orleans', 815),\n",
       " ('Las Vegas', 784),\n",
       " ('Pittsburgh', 752),\n",
       " ('Albuquerque', 749),\n",
       " ('Wichita', 742),\n",
       " ('Sacramento', 738),\n",
       " ('Jersey City', 734),\n",
       " ('Tucson', 724),\n",
       " ('St. Paul', 722),\n",
       " ('San Francisco', 704),\n",
       " ('Dallas', 675),\n",
       " ('Corpus Christi', 658),\n",
       " ('Charlotte-Mecklenburg', 647),\n",
       " ('New York', 639),\n",
       " ('Phoenix', 636),\n",
       " ('Jacksonville', 617),\n",
       " ('Tampa', 616),\n",
       " ('Denver', 615),\n",
       " ('Louisville Metro', 598),\n",
       " ('Seattle', 597),\n",
       " ('Omaha', 594),\n",
       " ('Fort Worth', 587),\n",
       " ('Long Beach', 575),\n",
       " ('Greensboro', 563),\n",
       " ('Fresno', 543),\n",
       " ('Bakersfield', 542),\n",
       " ('Mobile', 522),\n",
       " ('Portland', 517),\n",
       " ('Arlington', 503),\n",
       " ('San Antonio', 503),\n",
       " ('Los Angeles', 481),\n",
       " ('Colorado Springs', 455),\n",
       " ('Riverside', 443),\n",
       " ('Aurora', 425),\n",
       " ('El Paso', 423),\n",
       " ('Raleigh', 423),\n",
       " ('San Diego', 413),\n",
       " ('Austin', 408),\n",
       " ('Santa Ana', 401),\n",
       " ('Mesa', 399),\n",
       " ('Lincoln', 397),\n",
       " ('Anaheim', 371),\n",
       " ('San Jose', 363),\n",
       " ('Fort Wayne', 362),\n",
       " ('Lexington', 352),\n",
       " ('Virginia Beach', 169),\n",
       " ('Henderson', 168),\n",
       " ('Plano', 130)]"
      ]
     },
     "execution_count": 101,
     "metadata": {},
     "output_type": "execute_result"
    }
   ],
   "source": [
    "sorted(cities.items(), key=lambda x:x[1], reverse=True)"
   ]
  },
  {
   "cell_type": "markdown",
   "metadata": {},
   "source": [
    "### Λεξικά μέσα σε λεξικά"
   ]
  },
  {
   "cell_type": "code",
   "execution_count": 102,
   "metadata": {},
   "outputs": [],
   "source": [
    "countries = { 'Greece': { 'capital':'Athens', 'population':10750000 },\n",
    "           'Sweden': { 'capital':'Stockholm', 'population':9903000000 },\n",
    "           'Denmark': { 'capital':'Copenhagen', 'population':5731000000 }}"
   ]
  },
  {
   "cell_type": "code",
   "execution_count": 103,
   "metadata": {},
   "outputs": [
    {
     "name": "stdout",
     "output_type": "stream",
     "text": [
      "{'Greece': {'capital': 'Athens', 'population': 10750000}, 'Sweden': {'capital': 'Stockholm', 'population': 9903000000}, 'Denmark': {'capital': 'Copenhagen', 'population': 5731000000}}\n"
     ]
    }
   ],
   "source": [
    "print(countries)"
   ]
  },
  {
   "cell_type": "code",
   "execution_count": 104,
   "metadata": {},
   "outputs": [
    {
     "name": "stdout",
     "output_type": "stream",
     "text": [
      "{'capital': 'Athens', 'population': 10750000}\n"
     ]
    }
   ],
   "source": [
    "print(countries['Greece'])"
   ]
  },
  {
   "cell_type": "code",
   "execution_count": 105,
   "metadata": {},
   "outputs": [
    {
     "name": "stdout",
     "output_type": "stream",
     "text": [
      "10750000\n"
     ]
    }
   ],
   "source": [
    "print(countries['Greece']['population'])"
   ]
  },
  {
   "cell_type": "markdown",
   "metadata": {},
   "source": [
    "## Συναρτήσεις\n",
    "\n",
    "Πάντα προσπαθούμε να σπάσουμε τον κώδικά μας σε συναρτήσεις. Όσο μεγαλώνει το project, θα γίνεται όλο και πιο δύσκολη η συντήρηση και οι αλλαγές που θα θέλουμε να κάνουμε."
   ]
  },
  {
   "cell_type": "code",
   "execution_count": 106,
   "metadata": {},
   "outputs": [
    {
     "name": "stdout",
     "output_type": "stream",
     "text": [
      "10 20 15\n"
     ]
    }
   ],
   "source": [
    "def my_function(a, b = 5):\n",
    "    if a > 0:\n",
    "        c = a + b\n",
    "    else:\n",
    "        c = -3 * a + b\n",
    "    return c\n",
    "\n",
    "r1 = my_function(5)\n",
    "r2 = my_function(-5)\n",
    "r3 = my_function(5,10)\n",
    "print(r1, r2, r3)"
   ]
  },
  {
   "cell_type": "markdown",
   "metadata": {},
   "source": [
    "### Άσκηση\n",
    "\n",
    "Να γραφτεί συνάρτηση που θα δέχεται λίστα και θα επιστρέφει το μέγιστο. Για ευκολία, θεωρούμε ότι η λίστα θα περιέχει μόνο αριθμούς."
   ]
  },
  {
   "cell_type": "code",
   "execution_count": 107,
   "metadata": {},
   "outputs": [
    {
     "data": {
      "text/plain": [
       "100"
      ]
     },
     "execution_count": 107,
     "metadata": {},
     "output_type": "execute_result"
    }
   ],
   "source": [
    "def max_of_list(my_list):\n",
    "    return max(my_list)\n",
    "\n",
    "max_of_list([0,1,2,3,4,5,6,7,8,100])"
   ]
  },
  {
   "cell_type": "code",
   "execution_count": 108,
   "metadata": {},
   "outputs": [
    {
     "name": "stdout",
     "output_type": "stream",
     "text": [
      "Καλημέρα\n"
     ]
    }
   ],
   "source": [
    "def my_print():\n",
    "    print('Καλημέρα')\n",
    "\n",
    "my_print()"
   ]
  },
  {
   "cell_type": "code",
   "execution_count": null,
   "metadata": {},
   "outputs": [],
   "source": [
    "def my_message(message=\"Καλημέρα\"):\n",
    "    print(message)\n",
    "my_message()"
   ]
  },
  {
   "cell_type": "markdown",
   "metadata": {},
   "source": [
    "### Βιβλιοθήκες\n",
    "Για να χρησιμοποιήσουμε κάποια βιβλιοθήκη της Python, αρκεί να την εισάγουμε με την εντολή import στην αρχή του κώδικα"
   ]
  },
  {
   "cell_type": "code",
   "execution_count": 109,
   "metadata": {},
   "outputs": [
    {
     "name": "stdout",
     "output_type": "stream",
     "text": [
      "3.141592653589793\n"
     ]
    }
   ],
   "source": [
    "import math\n",
    "print(math.pi)"
   ]
  },
  {
   "cell_type": "code",
   "execution_count": 110,
   "metadata": {},
   "outputs": [
    {
     "name": "stdout",
     "output_type": "stream",
     "text": [
      "9.0\n"
     ]
    }
   ],
   "source": [
    "print(math.pow(3,2))"
   ]
  },
  {
   "cell_type": "markdown",
   "metadata": {},
   "source": [
    "Υπάρχει η δυνατότητα να εισάγουμε μέρος της βιβλιοθήκης και όχι ολόκληρη"
   ]
  },
  {
   "cell_type": "code",
   "execution_count": null,
   "metadata": {},
   "outputs": [],
   "source": [
    "from math import pow\n",
    "print(pow(3,2))"
   ]
  },
  {
   "cell_type": "markdown",
   "metadata": {},
   "source": [
    "Ή να δώσουμε nickname στη βιβλιοθήκη βάζοντας στο τέλος το as και το όνομα που θέλουμε"
   ]
  },
  {
   "cell_type": "code",
   "execution_count": 111,
   "metadata": {},
   "outputs": [
    {
     "name": "stdout",
     "output_type": "stream",
     "text": [
      "3.141592653589793\n"
     ]
    }
   ],
   "source": [
    "import math as mathimatika\n",
    "print(mathimatika.pi)"
   ]
  },
  {
   "cell_type": "code",
   "execution_count": null,
   "metadata": {},
   "outputs": [],
   "source": []
  }
 ],
 "metadata": {
  "kernelspec": {
   "display_name": "Python 3",
   "language": "python",
   "name": "python3"
  },
  "language_info": {
   "codemirror_mode": {
    "name": "ipython",
    "version": 3
   },
   "file_extension": ".py",
   "mimetype": "text/x-python",
   "name": "python",
   "nbconvert_exporter": "python",
   "pygments_lexer": "ipython3",
   "version": "3.6.6"
  }
 },
 "nbformat": 4,
 "nbformat_minor": 2
}

{
 "cells": [
  {
   "cell_type": "markdown",
   "metadata": {},
   "source": [
    "## Exercise 1\n",
    "Να γράψετε συνάρτηση που να δέχεται δύο παραμέτρους της μορφής string και να τις τυπώνει σε μία γραμμή με ένα κενό ενδιάμεσα"
   ]
  },
  {
   "cell_type": "code",
   "execution_count": 1,
   "metadata": {},
   "outputs": [],
   "source": [
    "##Λύση"
   ]
  },
  {
   "cell_type": "markdown",
   "metadata": {},
   "source": [
    "## Exercise 2\n",
    " 1. Να διαβάσετε το CSV αρχείο \"names.csv\" που υπάρχει στον φάκελο και να το περάσετε σε ένα DataFrame\n",
    " 2. Να βρείτε πόσες γένες υπάρχουν ανά χρόνο\n",
    " 3. Να γίνει ταξινόμιση (αύξουσα) στη στήλη με το όνομα και να τυπώσετε τα 20 πρώτα\n",
    " 4. Ποιο Ethnicity έχει συνολικά τα περισσότερα ονόματα (δείτε τη στήλη count)"
   ]
  },
  {
   "cell_type": "code",
   "execution_count": 2,
   "metadata": {},
   "outputs": [],
   "source": [
    "##Λύση"
   ]
  },
  {
   "cell_type": "markdown",
   "metadata": {},
   "source": [
    "## Exercise 3\n",
    "\n",
    " 1. Να διαβάσετε το ίδιο αρχείο CSV με πριν, αλλά αυτήν τη φορά να μετατραπεί σε λίστα (όχι DataFrame)\n",
    " 2. Να δημιουργήσετε ένα Λεξικό όπου το κλειδί θα είναι το NAME και η τιμή το COUNT"
   ]
  },
  {
   "cell_type": "code",
   "execution_count": 3,
   "metadata": {},
   "outputs": [],
   "source": [
    "##Λύση"
   ]
  },
  {
   "cell_type": "markdown",
   "metadata": {},
   "source": [
    "## Exercise 4\n",
    "\n",
    " 1. Να διαβάσετε το αρχείο ΝΒΑ players από τον φάκελο Day 1.\n",
    " 2. Αφού υπολογίσετε το BMI όπως κάναμε στο μάθημα να υπολογίσετε και να τυπώσετε τη μέση τιμή, τη διάμεσο και την τυπική απόκλιση του BMI"
   ]
  },
  {
   "cell_type": "code",
   "execution_count": 4,
   "metadata": {},
   "outputs": [],
   "source": [
    "##Λύση"
   ]
  }
 ],
 "metadata": {
  "kernelspec": {
   "display_name": "Python 3",
   "language": "python",
   "name": "python3"
  },
  "language_info": {
   "codemirror_mode": {
    "name": "ipython",
    "version": 3
   },
   "file_extension": ".py",
   "mimetype": "text/x-python",
   "name": "python",
   "nbconvert_exporter": "python",
   "pygments_lexer": "ipython3",
   "version": "3.7.2"
  }
 },
 "nbformat": 4,
 "nbformat_minor": 2
}
